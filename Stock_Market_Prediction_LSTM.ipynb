{
 "metadata": {
  "language_info": {
   "codemirror_mode": {
    "name": "ipython",
    "version": 3
   },
   "file_extension": ".py",
   "mimetype": "text/x-python",
   "name": "python",
   "nbconvert_exporter": "python",
   "pygments_lexer": "ipython3",
   "version": "3.8.5"
  },
  "orig_nbformat": 2,
  "kernelspec": {
   "name": "python385jvsc74a57bd03677a8e1c44da040dc0906c8dc9e041871967a0aba89dad8041efde5a549d202",
   "display_name": "Python 3.8.5 64-bit ('base': conda)"
  },
  "metadata": {
   "interpreter": {
    "hash": "109db2e0f67f4b6b550ce06c9f63cf8459596e31279c119d166527971dd72c31"
   }
  }
 },
 "nbformat": 4,
 "nbformat_minor": 2,
 "cells": [
  {
   "cell_type": "code",
   "execution_count": 72,
   "metadata": {},
   "outputs": [],
   "source": [
    "import numpy as np \n",
    "import pandas as pd \n",
    "import pandas_datareader as web\n",
    "import matplotlib.pyplot as plt \n"
   ]
  },
  {
   "cell_type": "code",
   "execution_count": 2,
   "metadata": {},
   "outputs": [],
   "source": [
    "df=web.DataReader('MSFT','yahoo')"
   ]
  },
  {
   "cell_type": "code",
   "execution_count": 7,
   "metadata": {},
   "outputs": [],
   "source": [
    "df.reset_index(inplace=True)"
   ]
  },
  {
   "cell_type": "code",
   "execution_count": 16,
   "metadata": {},
   "outputs": [],
   "source": [
    "new_data=df[['Date','Close']]"
   ]
  },
  {
   "cell_type": "code",
   "execution_count": 17,
   "metadata": {},
   "outputs": [
    {
     "output_type": "execute_result",
     "data": {
      "text/plain": [
       "           Date       Close\n",
       "0    2016-05-17   50.509998\n",
       "1    2016-05-18   50.810001\n",
       "2    2016-05-19   50.320000\n",
       "3    2016-05-20   50.619999\n",
       "4    2016-05-23   50.029999\n",
       "...         ...         ...\n",
       "1254 2021-05-11  246.229996\n",
       "1255 2021-05-12  239.000000\n",
       "1256 2021-05-13  243.029999\n",
       "1257 2021-05-14  248.149994\n",
       "1258 2021-05-17  245.240005\n",
       "\n",
       "[1259 rows x 2 columns]"
      ],
      "text/html": "<div>\n<style scoped>\n    .dataframe tbody tr th:only-of-type {\n        vertical-align: middle;\n    }\n\n    .dataframe tbody tr th {\n        vertical-align: top;\n    }\n\n    .dataframe thead th {\n        text-align: right;\n    }\n</style>\n<table border=\"1\" class=\"dataframe\">\n  <thead>\n    <tr style=\"text-align: right;\">\n      <th></th>\n      <th>Date</th>\n      <th>Close</th>\n    </tr>\n  </thead>\n  <tbody>\n    <tr>\n      <th>0</th>\n      <td>2016-05-17</td>\n      <td>50.509998</td>\n    </tr>\n    <tr>\n      <th>1</th>\n      <td>2016-05-18</td>\n      <td>50.810001</td>\n    </tr>\n    <tr>\n      <th>2</th>\n      <td>2016-05-19</td>\n      <td>50.320000</td>\n    </tr>\n    <tr>\n      <th>3</th>\n      <td>2016-05-20</td>\n      <td>50.619999</td>\n    </tr>\n    <tr>\n      <th>4</th>\n      <td>2016-05-23</td>\n      <td>50.029999</td>\n    </tr>\n    <tr>\n      <th>...</th>\n      <td>...</td>\n      <td>...</td>\n    </tr>\n    <tr>\n      <th>1254</th>\n      <td>2021-05-11</td>\n      <td>246.229996</td>\n    </tr>\n    <tr>\n      <th>1255</th>\n      <td>2021-05-12</td>\n      <td>239.000000</td>\n    </tr>\n    <tr>\n      <th>1256</th>\n      <td>2021-05-13</td>\n      <td>243.029999</td>\n    </tr>\n    <tr>\n      <th>1257</th>\n      <td>2021-05-14</td>\n      <td>248.149994</td>\n    </tr>\n    <tr>\n      <th>1258</th>\n      <td>2021-05-17</td>\n      <td>245.240005</td>\n    </tr>\n  </tbody>\n</table>\n<p>1259 rows × 2 columns</p>\n</div>"
     },
     "metadata": {},
     "execution_count": 17
    }
   ],
   "source": [
    "new_data"
   ]
  },
  {
   "cell_type": "code",
   "execution_count": 19,
   "metadata": {},
   "outputs": [],
   "source": [
    "new_data.index=new_data['Date']"
   ]
  },
  {
   "cell_type": "code",
   "execution_count": 22,
   "metadata": {},
   "outputs": [
    {
     "output_type": "stream",
     "name": "stderr",
     "text": [
      "C:\\Users\\CHAD\\anaconda3\\lib\\site-packages\\pandas\\core\\frame.py:4163: SettingWithCopyWarning: \nA value is trying to be set on a copy of a slice from a DataFrame\n\nSee the caveats in the documentation: https://pandas.pydata.org/pandas-docs/stable/user_guide/indexing.html#returning-a-view-versus-a-copy\n  return super().drop(\n"
     ]
    }
   ],
   "source": [
    "new_data.drop('Date',axis=1,inplace=True)"
   ]
  },
  {
   "cell_type": "code",
   "execution_count": 23,
   "metadata": {},
   "outputs": [
    {
     "output_type": "execute_result",
     "data": {
      "text/plain": [
       "                 Close\n",
       "Date                  \n",
       "2016-05-17   50.509998\n",
       "2016-05-18   50.810001\n",
       "2016-05-19   50.320000\n",
       "2016-05-20   50.619999\n",
       "2016-05-23   50.029999\n",
       "...                ...\n",
       "2021-05-11  246.229996\n",
       "2021-05-12  239.000000\n",
       "2021-05-13  243.029999\n",
       "2021-05-14  248.149994\n",
       "2021-05-17  245.240005\n",
       "\n",
       "[1259 rows x 1 columns]"
      ],
      "text/html": "<div>\n<style scoped>\n    .dataframe tbody tr th:only-of-type {\n        vertical-align: middle;\n    }\n\n    .dataframe tbody tr th {\n        vertical-align: top;\n    }\n\n    .dataframe thead th {\n        text-align: right;\n    }\n</style>\n<table border=\"1\" class=\"dataframe\">\n  <thead>\n    <tr style=\"text-align: right;\">\n      <th></th>\n      <th>Close</th>\n    </tr>\n    <tr>\n      <th>Date</th>\n      <th></th>\n    </tr>\n  </thead>\n  <tbody>\n    <tr>\n      <th>2016-05-17</th>\n      <td>50.509998</td>\n    </tr>\n    <tr>\n      <th>2016-05-18</th>\n      <td>50.810001</td>\n    </tr>\n    <tr>\n      <th>2016-05-19</th>\n      <td>50.320000</td>\n    </tr>\n    <tr>\n      <th>2016-05-20</th>\n      <td>50.619999</td>\n    </tr>\n    <tr>\n      <th>2016-05-23</th>\n      <td>50.029999</td>\n    </tr>\n    <tr>\n      <th>...</th>\n      <td>...</td>\n    </tr>\n    <tr>\n      <th>2021-05-11</th>\n      <td>246.229996</td>\n    </tr>\n    <tr>\n      <th>2021-05-12</th>\n      <td>239.000000</td>\n    </tr>\n    <tr>\n      <th>2021-05-13</th>\n      <td>243.029999</td>\n    </tr>\n    <tr>\n      <th>2021-05-14</th>\n      <td>248.149994</td>\n    </tr>\n    <tr>\n      <th>2021-05-17</th>\n      <td>245.240005</td>\n    </tr>\n  </tbody>\n</table>\n<p>1259 rows × 1 columns</p>\n</div>"
     },
     "metadata": {},
     "execution_count": 23
    }
   ],
   "source": [
    "new_data"
   ]
  },
  {
   "cell_type": "code",
   "execution_count": 24,
   "metadata": {},
   "outputs": [],
   "source": [
    "dataset=new_data.values"
   ]
  },
  {
   "cell_type": "code",
   "execution_count": 8,
   "metadata": {},
   "outputs": [
    {
     "output_type": "execute_result",
     "data": {
      "text/plain": [
       "           Date        High         Low        Open       Close      Volume  \\\n",
       "1002 2020-05-11  187.509995  182.850006  183.149994  186.740005  30892700.0   \n",
       "\n",
       "       Adj Close  \n",
       "1002  184.861435  "
      ],
      "text/html": "<div>\n<style scoped>\n    .dataframe tbody tr th:only-of-type {\n        vertical-align: middle;\n    }\n\n    .dataframe tbody tr th {\n        vertical-align: top;\n    }\n\n    .dataframe thead th {\n        text-align: right;\n    }\n</style>\n<table border=\"1\" class=\"dataframe\">\n  <thead>\n    <tr style=\"text-align: right;\">\n      <th></th>\n      <th>Date</th>\n      <th>High</th>\n      <th>Low</th>\n      <th>Open</th>\n      <th>Close</th>\n      <th>Volume</th>\n      <th>Adj Close</th>\n    </tr>\n  </thead>\n  <tbody>\n    <tr>\n      <th>1002</th>\n      <td>2020-05-11</td>\n      <td>187.509995</td>\n      <td>182.850006</td>\n      <td>183.149994</td>\n      <td>186.740005</td>\n      <td>30892700.0</td>\n      <td>184.861435</td>\n    </tr>\n  </tbody>\n</table>\n</div>"
     },
     "metadata": {},
     "execution_count": 8
    }
   ],
   "source": [
    "df[df['Date']=='2020-05-11']"
   ]
  },
  {
   "cell_type": "code",
   "execution_count": 25,
   "metadata": {},
   "outputs": [],
   "source": [
    "train=new_data[:1002]\n",
    "valid=new_data[1002:]"
   ]
  },
  {
   "cell_type": "code",
   "execution_count": 10,
   "metadata": {},
   "outputs": [],
   "source": [
    "from sklearn.preprocessing import MinMaxScaler"
   ]
  },
  {
   "cell_type": "code",
   "execution_count": 37,
   "metadata": {},
   "outputs": [
    {
     "output_type": "execute_result",
     "data": {
      "text/plain": [
       "1002"
      ]
     },
     "metadata": {},
     "execution_count": 37
    }
   ],
   "source": [
    "scaler=MinMaxScaler(feature_range=(0,1))\n",
    "scaled_data=scaler.fit_transform(dataset)\n",
    "len(train)"
   ]
  },
  {
   "cell_type": "code",
   "execution_count": 40,
   "metadata": {},
   "outputs": [],
   "source": [
    "x_train,y_train=[],[]\n",
    "for i in range(60,len(train)):\n",
    "    x_train.append(scaled_data[i-60:i,0])\n",
    "    y_train.append(scaled_data[i,0])\n",
    "x_train, y_train = np.array(x_train), np.array(y_train)"
   ]
  },
  {
   "cell_type": "code",
   "execution_count": 47,
   "metadata": {},
   "outputs": [],
   "source": [
    "x_train = np.reshape(x_train, (x_train.shape[0],x_train.shape[1],1)) #RESHAPING TO 3-DIMENSIONS"
   ]
  },
  {
   "cell_type": "code",
   "execution_count": 55,
   "metadata": {},
   "outputs": [],
   "source": [
    "#Modelling\n",
    "\n",
    "from keras.models import Sequential\n",
    "from keras.layers import Dense, Dropout, LSTM\n"
   ]
  },
  {
   "cell_type": "code",
   "execution_count": 57,
   "metadata": {},
   "outputs": [],
   "source": [
    "model = Sequential()\n",
    "model.add(LSTM(units=50,return_sequences=True,input_shape=(x_train.shape[1],1)))\n",
    "model.add(LSTM(units=50))\n",
    "model.add(Dense(1))"
   ]
  },
  {
   "cell_type": "code",
   "execution_count": 59,
   "metadata": {},
   "outputs": [],
   "source": [
    "model.compile(loss='mean_squared_error',optimizer='adam')"
   ]
  },
  {
   "cell_type": "code",
   "execution_count": 60,
   "metadata": {},
   "outputs": [
    {
     "output_type": "stream",
     "name": "stdout",
     "text": [
      "942/942 - 28s - loss: 0.0015\n"
     ]
    },
    {
     "output_type": "execute_result",
     "data": {
      "text/plain": [
       "<keras.callbacks.History at 0x1f8b766a370>"
      ]
     },
     "metadata": {},
     "execution_count": 60
    }
   ],
   "source": [
    "model.fit(x_train,y_train,epochs=1,batch_size=1,verbose=2)"
   ]
  },
  {
   "cell_type": "code",
   "execution_count": 61,
   "metadata": {},
   "outputs": [],
   "source": [
    "inputs = new_data[len(new_data) - len(valid) - 60:].values\n",
    "inputs = inputs.reshape(-1,1)\n",
    "inputs  = scaler.transform(inputs)"
   ]
  },
  {
   "cell_type": "code",
   "execution_count": 68,
   "metadata": {},
   "outputs": [],
   "source": [
    "x_test=[]\n",
    "for i in range(60,inputs.shape[0]):\n",
    "    x_test.append(inputs[i-60:i,0])"
   ]
  },
  {
   "cell_type": "code",
   "execution_count": 69,
   "metadata": {},
   "outputs": [],
   "source": [
    "X_test = np.reshape(X_test, (X_test.shape[0],X_test.shape[1],1))\n",
    "closing_price = model.predict(X_test)\n",
    "closing_price = scaler.inverse_transform(closing_price)"
   ]
  },
  {
   "cell_type": "code",
   "execution_count": 70,
   "metadata": {},
   "outputs": [],
   "source": [
    "rms=np.sqrt(np.mean(np.power((valid-closing_price),2)))"
   ]
  },
  {
   "cell_type": "code",
   "execution_count": 74,
   "metadata": {},
   "outputs": [
    {
     "output_type": "stream",
     "name": "stderr",
     "text": [
      "<ipython-input-74-f6e2efe5df3b>:2: SettingWithCopyWarning: \nA value is trying to be set on a copy of a slice from a DataFrame.\nTry using .loc[row_indexer,col_indexer] = value instead\n\nSee the caveats in the documentation: https://pandas.pydata.org/pandas-docs/stable/user_guide/indexing.html#returning-a-view-versus-a-copy\n  valid['Predictions'] = closing_price\nNo handles with labels found to put in legend.\n"
     ]
    },
    {
     "output_type": "execute_result",
     "data": {
      "text/plain": [
       "<matplotlib.legend.Legend at 0x1f8be6342e0>"
      ]
     },
     "metadata": {},
     "execution_count": 74
    },
    {
     "output_type": "display_data",
     "data": {
      "text/plain": "<Figure size 432x288 with 1 Axes>",
      "image/svg+xml": "<?xml version=\"1.0\" encoding=\"utf-8\" standalone=\"no\"?>\r\n<!DOCTYPE svg PUBLIC \"-//W3C//DTD SVG 1.1//EN\"\r\n  \"http://www.w3.org/Graphics/SVG/1.1/DTD/svg11.dtd\">\r\n<!-- Created with matplotlib (https://matplotlib.org/) -->\r\n<svg height=\"248.518125pt\" version=\"1.1\" viewBox=\"0 0 375.2875 248.518125\" width=\"375.2875pt\" xmlns=\"http://www.w3.org/2000/svg\" xmlns:xlink=\"http://www.w3.org/1999/xlink\">\r\n <metadata>\r\n  <rdf:RDF xmlns:cc=\"http://creativecommons.org/ns#\" xmlns:dc=\"http://purl.org/dc/elements/1.1/\" xmlns:rdf=\"http://www.w3.org/1999/02/22-rdf-syntax-ns#\">\r\n   <cc:Work>\r\n    <dc:type rdf:resource=\"http://purl.org/dc/dcmitype/StillImage\"/>\r\n    <dc:date>2021-05-17T20:54:46.896899</dc:date>\r\n    <dc:format>image/svg+xml</dc:format>\r\n    <dc:creator>\r\n     <cc:Agent>\r\n      <dc:title>Matplotlib v3.3.2, https://matplotlib.org/</dc:title>\r\n     </cc:Agent>\r\n    </dc:creator>\r\n   </cc:Work>\r\n  </rdf:RDF>\r\n </metadata>\r\n <defs>\r\n  <style type=\"text/css\">*{stroke-linecap:butt;stroke-linejoin:round;}</style>\r\n </defs>\r\n <g id=\"figure_1\">\r\n  <g id=\"patch_1\">\r\n   <path d=\"M 0 248.518125 \r\nL 375.2875 248.518125 \r\nL 375.2875 0 \r\nL 0 0 \r\nz\r\n\" style=\"fill:none;\"/>\r\n  </g>\r\n  <g id=\"axes_1\">\r\n   <g id=\"patch_2\">\r\n    <path d=\"M 33.2875 224.64 \r\nL 368.0875 224.64 \r\nL 368.0875 7.2 \r\nL 33.2875 7.2 \r\nz\r\n\" style=\"fill:#ffffff;\"/>\r\n   </g>\r\n   <g id=\"matplotlib.axis_1\">\r\n    <g id=\"xtick_1\">\r\n     <g id=\"line2d_1\">\r\n      <defs>\r\n       <path d=\"M 0 0 \r\nL 0 3.5 \r\n\" id=\"m353783d96d\" style=\"stroke:#000000;stroke-width:0.8;\"/>\r\n      </defs>\r\n      <g>\r\n       <use style=\"stroke:#000000;stroke-width:0.8;\" x=\"86.676149\" xlink:href=\"#m353783d96d\" y=\"224.64\"/>\r\n      </g>\r\n     </g>\r\n     <g id=\"text_1\">\r\n      <!-- 2017 -->\r\n      <g transform=\"translate(73.951149 239.238438)scale(0.1 -0.1)\">\r\n       <defs>\r\n        <path d=\"M 19.1875 8.296875 \r\nL 53.609375 8.296875 \r\nL 53.609375 0 \r\nL 7.328125 0 \r\nL 7.328125 8.296875 \r\nQ 12.9375 14.109375 22.625 23.890625 \r\nQ 32.328125 33.6875 34.8125 36.53125 \r\nQ 39.546875 41.84375 41.421875 45.53125 \r\nQ 43.3125 49.21875 43.3125 52.78125 \r\nQ 43.3125 58.59375 39.234375 62.25 \r\nQ 35.15625 65.921875 28.609375 65.921875 \r\nQ 23.96875 65.921875 18.8125 64.3125 \r\nQ 13.671875 62.703125 7.8125 59.421875 \r\nL 7.8125 69.390625 \r\nQ 13.765625 71.78125 18.9375 73 \r\nQ 24.125 74.21875 28.421875 74.21875 \r\nQ 39.75 74.21875 46.484375 68.546875 \r\nQ 53.21875 62.890625 53.21875 53.421875 \r\nQ 53.21875 48.921875 51.53125 44.890625 \r\nQ 49.859375 40.875 45.40625 35.40625 \r\nQ 44.1875 33.984375 37.640625 27.21875 \r\nQ 31.109375 20.453125 19.1875 8.296875 \r\nz\r\n\" id=\"DejaVuSans-50\"/>\r\n        <path d=\"M 31.78125 66.40625 \r\nQ 24.171875 66.40625 20.328125 58.90625 \r\nQ 16.5 51.421875 16.5 36.375 \r\nQ 16.5 21.390625 20.328125 13.890625 \r\nQ 24.171875 6.390625 31.78125 6.390625 \r\nQ 39.453125 6.390625 43.28125 13.890625 \r\nQ 47.125 21.390625 47.125 36.375 \r\nQ 47.125 51.421875 43.28125 58.90625 \r\nQ 39.453125 66.40625 31.78125 66.40625 \r\nz\r\nM 31.78125 74.21875 \r\nQ 44.046875 74.21875 50.515625 64.515625 \r\nQ 56.984375 54.828125 56.984375 36.375 \r\nQ 56.984375 17.96875 50.515625 8.265625 \r\nQ 44.046875 -1.421875 31.78125 -1.421875 \r\nQ 19.53125 -1.421875 13.0625 8.265625 \r\nQ 6.59375 17.96875 6.59375 36.375 \r\nQ 6.59375 54.828125 13.0625 64.515625 \r\nQ 19.53125 74.21875 31.78125 74.21875 \r\nz\r\n\" id=\"DejaVuSans-48\"/>\r\n        <path d=\"M 12.40625 8.296875 \r\nL 28.515625 8.296875 \r\nL 28.515625 63.921875 \r\nL 10.984375 60.40625 \r\nL 10.984375 69.390625 \r\nL 28.421875 72.90625 \r\nL 38.28125 72.90625 \r\nL 38.28125 8.296875 \r\nL 54.390625 8.296875 \r\nL 54.390625 0 \r\nL 12.40625 0 \r\nz\r\n\" id=\"DejaVuSans-49\"/>\r\n        <path d=\"M 8.203125 72.90625 \r\nL 55.078125 72.90625 \r\nL 55.078125 68.703125 \r\nL 28.609375 0 \r\nL 18.3125 0 \r\nL 43.21875 64.59375 \r\nL 8.203125 64.59375 \r\nz\r\n\" id=\"DejaVuSans-55\"/>\r\n       </defs>\r\n       <use xlink:href=\"#DejaVuSans-50\"/>\r\n       <use x=\"63.623047\" xlink:href=\"#DejaVuSans-48\"/>\r\n       <use x=\"127.246094\" xlink:href=\"#DejaVuSans-49\"/>\r\n       <use x=\"190.869141\" xlink:href=\"#DejaVuSans-55\"/>\r\n      </g>\r\n     </g>\r\n    </g>\r\n    <g id=\"xtick_2\">\r\n     <g id=\"line2d_2\">\r\n      <g>\r\n       <use style=\"stroke:#000000;stroke-width:0.8;\" x=\"147.515539\" xlink:href=\"#m353783d96d\" y=\"224.64\"/>\r\n      </g>\r\n     </g>\r\n     <g id=\"text_2\">\r\n      <!-- 2018 -->\r\n      <g transform=\"translate(134.790539 239.238438)scale(0.1 -0.1)\">\r\n       <defs>\r\n        <path d=\"M 31.78125 34.625 \r\nQ 24.75 34.625 20.71875 30.859375 \r\nQ 16.703125 27.09375 16.703125 20.515625 \r\nQ 16.703125 13.921875 20.71875 10.15625 \r\nQ 24.75 6.390625 31.78125 6.390625 \r\nQ 38.8125 6.390625 42.859375 10.171875 \r\nQ 46.921875 13.96875 46.921875 20.515625 \r\nQ 46.921875 27.09375 42.890625 30.859375 \r\nQ 38.875 34.625 31.78125 34.625 \r\nz\r\nM 21.921875 38.8125 \r\nQ 15.578125 40.375 12.03125 44.71875 \r\nQ 8.5 49.078125 8.5 55.328125 \r\nQ 8.5 64.0625 14.71875 69.140625 \r\nQ 20.953125 74.21875 31.78125 74.21875 \r\nQ 42.671875 74.21875 48.875 69.140625 \r\nQ 55.078125 64.0625 55.078125 55.328125 \r\nQ 55.078125 49.078125 51.53125 44.71875 \r\nQ 48 40.375 41.703125 38.8125 \r\nQ 48.828125 37.15625 52.796875 32.3125 \r\nQ 56.78125 27.484375 56.78125 20.515625 \r\nQ 56.78125 9.90625 50.3125 4.234375 \r\nQ 43.84375 -1.421875 31.78125 -1.421875 \r\nQ 19.734375 -1.421875 13.25 4.234375 \r\nQ 6.78125 9.90625 6.78125 20.515625 \r\nQ 6.78125 27.484375 10.78125 32.3125 \r\nQ 14.796875 37.15625 21.921875 38.8125 \r\nz\r\nM 18.3125 54.390625 \r\nQ 18.3125 48.734375 21.84375 45.5625 \r\nQ 25.390625 42.390625 31.78125 42.390625 \r\nQ 38.140625 42.390625 41.71875 45.5625 \r\nQ 45.3125 48.734375 45.3125 54.390625 \r\nQ 45.3125 60.0625 41.71875 63.234375 \r\nQ 38.140625 66.40625 31.78125 66.40625 \r\nQ 25.390625 66.40625 21.84375 63.234375 \r\nQ 18.3125 60.0625 18.3125 54.390625 \r\nz\r\n\" id=\"DejaVuSans-56\"/>\r\n       </defs>\r\n       <use xlink:href=\"#DejaVuSans-50\"/>\r\n       <use x=\"63.623047\" xlink:href=\"#DejaVuSans-48\"/>\r\n       <use x=\"127.246094\" xlink:href=\"#DejaVuSans-49\"/>\r\n       <use x=\"190.869141\" xlink:href=\"#DejaVuSans-56\"/>\r\n      </g>\r\n     </g>\r\n    </g>\r\n    <g id=\"xtick_3\">\r\n     <g id=\"line2d_3\">\r\n      <g>\r\n       <use style=\"stroke:#000000;stroke-width:0.8;\" x=\"208.35493\" xlink:href=\"#m353783d96d\" y=\"224.64\"/>\r\n      </g>\r\n     </g>\r\n     <g id=\"text_3\">\r\n      <!-- 2019 -->\r\n      <g transform=\"translate(195.62993 239.238438)scale(0.1 -0.1)\">\r\n       <defs>\r\n        <path d=\"M 10.984375 1.515625 \r\nL 10.984375 10.5 \r\nQ 14.703125 8.734375 18.5 7.8125 \r\nQ 22.3125 6.890625 25.984375 6.890625 \r\nQ 35.75 6.890625 40.890625 13.453125 \r\nQ 46.046875 20.015625 46.78125 33.40625 \r\nQ 43.953125 29.203125 39.59375 26.953125 \r\nQ 35.25 24.703125 29.984375 24.703125 \r\nQ 19.046875 24.703125 12.671875 31.3125 \r\nQ 6.296875 37.9375 6.296875 49.421875 \r\nQ 6.296875 60.640625 12.9375 67.421875 \r\nQ 19.578125 74.21875 30.609375 74.21875 \r\nQ 43.265625 74.21875 49.921875 64.515625 \r\nQ 56.59375 54.828125 56.59375 36.375 \r\nQ 56.59375 19.140625 48.40625 8.859375 \r\nQ 40.234375 -1.421875 26.421875 -1.421875 \r\nQ 22.703125 -1.421875 18.890625 -0.6875 \r\nQ 15.09375 0.046875 10.984375 1.515625 \r\nz\r\nM 30.609375 32.421875 \r\nQ 37.25 32.421875 41.125 36.953125 \r\nQ 45.015625 41.5 45.015625 49.421875 \r\nQ 45.015625 57.28125 41.125 61.84375 \r\nQ 37.25 66.40625 30.609375 66.40625 \r\nQ 23.96875 66.40625 20.09375 61.84375 \r\nQ 16.21875 57.28125 16.21875 49.421875 \r\nQ 16.21875 41.5 20.09375 36.953125 \r\nQ 23.96875 32.421875 30.609375 32.421875 \r\nz\r\n\" id=\"DejaVuSans-57\"/>\r\n       </defs>\r\n       <use xlink:href=\"#DejaVuSans-50\"/>\r\n       <use x=\"63.623047\" xlink:href=\"#DejaVuSans-48\"/>\r\n       <use x=\"127.246094\" xlink:href=\"#DejaVuSans-49\"/>\r\n       <use x=\"190.869141\" xlink:href=\"#DejaVuSans-57\"/>\r\n      </g>\r\n     </g>\r\n    </g>\r\n    <g id=\"xtick_4\">\r\n     <g id=\"line2d_4\">\r\n      <g>\r\n       <use style=\"stroke:#000000;stroke-width:0.8;\" x=\"269.194321\" xlink:href=\"#m353783d96d\" y=\"224.64\"/>\r\n      </g>\r\n     </g>\r\n     <g id=\"text_4\">\r\n      <!-- 2020 -->\r\n      <g transform=\"translate(256.469321 239.238438)scale(0.1 -0.1)\">\r\n       <use xlink:href=\"#DejaVuSans-50\"/>\r\n       <use x=\"63.623047\" xlink:href=\"#DejaVuSans-48\"/>\r\n       <use x=\"127.246094\" xlink:href=\"#DejaVuSans-50\"/>\r\n       <use x=\"190.869141\" xlink:href=\"#DejaVuSans-48\"/>\r\n      </g>\r\n     </g>\r\n    </g>\r\n    <g id=\"xtick_5\">\r\n     <g id=\"line2d_5\">\r\n      <g>\r\n       <use style=\"stroke:#000000;stroke-width:0.8;\" x=\"330.200395\" xlink:href=\"#m353783d96d\" y=\"224.64\"/>\r\n      </g>\r\n     </g>\r\n     <g id=\"text_5\">\r\n      <!-- 2021 -->\r\n      <g transform=\"translate(317.475395 239.238438)scale(0.1 -0.1)\">\r\n       <use xlink:href=\"#DejaVuSans-50\"/>\r\n       <use x=\"63.623047\" xlink:href=\"#DejaVuSans-48\"/>\r\n       <use x=\"127.246094\" xlink:href=\"#DejaVuSans-50\"/>\r\n       <use x=\"190.869141\" xlink:href=\"#DejaVuSans-49\"/>\r\n      </g>\r\n     </g>\r\n    </g>\r\n   </g>\r\n   <g id=\"matplotlib.axis_2\">\r\n    <g id=\"ytick_1\">\r\n     <g id=\"line2d_6\">\r\n      <defs>\r\n       <path d=\"M 0 0 \r\nL -3.5 0 \r\n\" id=\"m6fd996315b\" style=\"stroke:#000000;stroke-width:0.8;\"/>\r\n      </defs>\r\n      <g>\r\n       <use style=\"stroke:#000000;stroke-width:0.8;\" x=\"33.2875\" xlink:href=\"#m6fd996315b\" y=\"213.303024\"/>\r\n      </g>\r\n     </g>\r\n     <g id=\"text_6\">\r\n      <!-- 50 -->\r\n      <g transform=\"translate(13.5625 217.102243)scale(0.1 -0.1)\">\r\n       <defs>\r\n        <path d=\"M 10.796875 72.90625 \r\nL 49.515625 72.90625 \r\nL 49.515625 64.59375 \r\nL 19.828125 64.59375 \r\nL 19.828125 46.734375 \r\nQ 21.96875 47.46875 24.109375 47.828125 \r\nQ 26.265625 48.1875 28.421875 48.1875 \r\nQ 40.625 48.1875 47.75 41.5 \r\nQ 54.890625 34.8125 54.890625 23.390625 \r\nQ 54.890625 11.625 47.5625 5.09375 \r\nQ 40.234375 -1.421875 26.90625 -1.421875 \r\nQ 22.3125 -1.421875 17.546875 -0.640625 \r\nQ 12.796875 0.140625 7.71875 1.703125 \r\nL 7.71875 11.625 \r\nQ 12.109375 9.234375 16.796875 8.0625 \r\nQ 21.484375 6.890625 26.703125 6.890625 \r\nQ 35.15625 6.890625 40.078125 11.328125 \r\nQ 45.015625 15.765625 45.015625 23.390625 \r\nQ 45.015625 31 40.078125 35.4375 \r\nQ 35.15625 39.890625 26.703125 39.890625 \r\nQ 22.75 39.890625 18.8125 39.015625 \r\nQ 14.890625 38.140625 10.796875 36.28125 \r\nz\r\n\" id=\"DejaVuSans-53\"/>\r\n       </defs>\r\n       <use xlink:href=\"#DejaVuSans-53\"/>\r\n       <use x=\"63.623047\" xlink:href=\"#DejaVuSans-48\"/>\r\n      </g>\r\n     </g>\r\n    </g>\r\n    <g id=\"ytick_2\">\r\n     <g id=\"line2d_7\">\r\n      <g>\r\n       <use style=\"stroke:#000000;stroke-width:0.8;\" x=\"33.2875\" xlink:href=\"#m6fd996315b\" y=\"167.018317\"/>\r\n      </g>\r\n     </g>\r\n     <g id=\"text_7\">\r\n      <!-- 100 -->\r\n      <g transform=\"translate(7.2 170.817536)scale(0.1 -0.1)\">\r\n       <use xlink:href=\"#DejaVuSans-49\"/>\r\n       <use x=\"63.623047\" xlink:href=\"#DejaVuSans-48\"/>\r\n       <use x=\"127.246094\" xlink:href=\"#DejaVuSans-48\"/>\r\n      </g>\r\n     </g>\r\n    </g>\r\n    <g id=\"ytick_3\">\r\n     <g id=\"line2d_8\">\r\n      <g>\r\n       <use style=\"stroke:#000000;stroke-width:0.8;\" x=\"33.2875\" xlink:href=\"#m6fd996315b\" y=\"120.73361\"/>\r\n      </g>\r\n     </g>\r\n     <g id=\"text_8\">\r\n      <!-- 150 -->\r\n      <g transform=\"translate(7.2 124.532829)scale(0.1 -0.1)\">\r\n       <use xlink:href=\"#DejaVuSans-49\"/>\r\n       <use x=\"63.623047\" xlink:href=\"#DejaVuSans-53\"/>\r\n       <use x=\"127.246094\" xlink:href=\"#DejaVuSans-48\"/>\r\n      </g>\r\n     </g>\r\n    </g>\r\n    <g id=\"ytick_4\">\r\n     <g id=\"line2d_9\">\r\n      <g>\r\n       <use style=\"stroke:#000000;stroke-width:0.8;\" x=\"33.2875\" xlink:href=\"#m6fd996315b\" y=\"74.448903\"/>\r\n      </g>\r\n     </g>\r\n     <g id=\"text_9\">\r\n      <!-- 200 -->\r\n      <g transform=\"translate(7.2 78.248122)scale(0.1 -0.1)\">\r\n       <use xlink:href=\"#DejaVuSans-50\"/>\r\n       <use x=\"63.623047\" xlink:href=\"#DejaVuSans-48\"/>\r\n       <use x=\"127.246094\" xlink:href=\"#DejaVuSans-48\"/>\r\n      </g>\r\n     </g>\r\n    </g>\r\n    <g id=\"ytick_5\">\r\n     <g id=\"line2d_10\">\r\n      <g>\r\n       <use style=\"stroke:#000000;stroke-width:0.8;\" x=\"33.2875\" xlink:href=\"#m6fd996315b\" y=\"28.164196\"/>\r\n      </g>\r\n     </g>\r\n     <g id=\"text_10\">\r\n      <!-- 250 -->\r\n      <g transform=\"translate(7.2 31.963415)scale(0.1 -0.1)\">\r\n       <use xlink:href=\"#DejaVuSans-50\"/>\r\n       <use x=\"63.623047\" xlink:href=\"#DejaVuSans-53\"/>\r\n       <use x=\"127.246094\" xlink:href=\"#DejaVuSans-48\"/>\r\n      </g>\r\n     </g>\r\n    </g>\r\n   </g>\r\n   <g id=\"line2d_11\">\r\n    <path clip-path=\"url(#p750ad89143)\" d=\"M 48.505682 212.830922 \r\nL 48.672365 212.553211 \r\nL 48.839048 213.006802 \r\nL 49.005732 212.729095 \r\nL 49.505781 213.275254 \r\nL 49.839148 211.340554 \r\nL 50.005831 211.553463 \r\nL 50.172514 211.155414 \r\nL 50.839247 210.525942 \r\nL 51.005931 210.664797 \r\nL 51.172614 211.007303 \r\nL 51.339297 211.646031 \r\nL 51.839347 211.331295 \r\nL 52.172714 211.414607 \r\nL 53.00613 213.173428 \r\nL 53.339496 213.589991 \r\nL 53.50618 212.942004 \r\nL 53.672863 213.182683 \r\nL 54.172913 213.238226 \r\nL 54.339596 212.201449 \r\nL 54.506279 212.386585 \r\nL 54.672963 211.534948 \r\nL 54.839646 213.46039 \r\nL 55.339696 214.756364 \r\nL 55.839745 212.219964 \r\nL 56.673162 212.219964 \r\nL 56.839845 212.025565 \r\nL 57.006528 212.025565 \r\nL 57.173211 211.173928 \r\nL 57.673261 210.905476 \r\nL 58.006628 210.053839 \r\nL 58.173311 209.840926 \r\nL 58.339994 209.877955 \r\nL 58.840044 209.637276 \r\nL 59.006727 210.442629 \r\nL 59.173411 207.832172 \r\nL 59.340094 207.933999 \r\nL 59.506777 207.221214 \r\nL 60.17351 207.045333 \r\nL 60.340193 207.572979 \r\nL 60.506877 207.554464 \r\nL 60.67356 207.119387 \r\nL 61.340293 207.211955 \r\nL 61.840343 205.9345 \r\nL 62.673759 205.878957 \r\nL 62.840442 205.619763 \r\nL 63.007126 205.953014 \r\nL 63.507175 205.786389 \r\nL 63.673859 206.415861 \r\nL 64.007225 206.26775 \r\nL 64.673958 206.202952 \r\nL 65.174008 205.740105 \r\nL 65.340691 205.869701 \r\nL 65.840741 205.804903 \r\nL 66.007424 205.999298 \r\nL 66.174108 206.397347 \r\nL 66.507474 206.202952 \r\nL 67.34089 206.212207 \r\nL 67.507574 206.425116 \r\nL 67.674257 207.554464 \r\nL 68.174307 206.776881 \r\nL 68.507673 207.50818 \r\nL 68.674357 206.647285 \r\nL 68.84104 206.591742 \r\nL 69.507773 206.999046 \r\nL 69.674456 206.119639 \r\nL 69.841139 206.064096 \r\nL 70.007823 206.425116 \r\nL 70.507872 206.915733 \r\nL 70.674556 205.943755 \r\nL 70.841239 205.869701 \r\nL 71.007922 206.452886 \r\nL 71.174605 206.26775 \r\nL 71.841338 206.600997 \r\nL 72.008022 206.230721 \r\nL 72.841438 205.860442 \r\nL 73.008121 206.647285 \r\nL 73.341488 206.897222 \r\nL 73.508171 206.434375 \r\nL 74.008221 206.619511 \r\nL 74.174904 206.212207 \r\nL 74.341587 206.332548 \r\nL 74.508271 206.591742 \r\nL 74.674954 204.360819 \r\nL 75.175004 203.120389 \r\nL 75.341687 203.129644 \r\nL 75.841737 204.166424 \r\nL 76.341787 204.12014 \r\nL 76.50847 204.231222 \r\nL 77.00852 205.240229 \r\nL 77.508569 203.657293 \r\nL 77.675253 203.611005 \r\nL 77.841936 203.888716 \r\nL 78.008619 205.249484 \r\nL 78.175302 204.953263 \r\nL 78.675352 205.786389 \r\nL 79.175402 203.453639 \r\nL 79.342085 203.722091 \r\nL 80.008818 203.009306 \r\nL 80.175502 203.675804 \r\nL 81.008918 203.481409 \r\nL 81.175601 203.037076 \r\nL 81.508968 204.786637 \r\nL 81.675651 204.740353 \r\nL 82.175701 203.842429 \r\nL 82.342384 204.092367 \r\nL 82.509067 202.777883 \r\nL 82.675751 203.111133 \r\nL 82.842434 202.222464 \r\nL 83.342484 202.037328 \r\nL 83.509167 201.287515 \r\nL 84.009217 201.916987 \r\nL 84.509266 200.695071 \r\nL 84.842633 200.769125 \r\nL 85.009316 200.759869 \r\nL 85.175999 201.046832 \r\nL 85.842733 201.009807 \r\nL 86.176099 201.361568 \r\nL 86.342782 202.065098 \r\nL 87.009515 201.65779 \r\nL 87.176199 201.916987 \r\nL 87.342882 201.916987 \r\nL 87.509565 201.417111 \r\nL 88.176298 201.620765 \r\nL 88.342981 201.09312 \r\nL 88.509665 201.63002 \r\nL 88.676348 201.546708 \r\nL 89.509764 201.731847 \r\nL 89.676448 201.916987 \r\nL 89.843131 201.509679 \r\nL 90.343181 201.306029 \r\nL 90.509864 200.787639 \r\nL 90.676547 200.639528 \r\nL 90.84323 200.093372 \r\nL 91.009914 198.695572 \r\nL 91.509963 199.297274 \r\nL 91.676647 199.741604 \r\nL 92.010013 201.111634 \r\nL 92.176696 200.639528 \r\nL 92.676746 200.676557 \r\nL 93.010113 200.954264 \r\nL 93.176796 200.287767 \r\nL 93.343479 200.343306 \r\nL 93.843529 199.676805 \r\nL 94.176896 199.852689 \r\nL 95.343678 200.010056 \r\nL 95.510362 199.769373 \r\nL 95.677045 199.769373 \r\nL 96.343778 200.36182 \r\nL 96.510461 199.473151 \r\nL 96.677145 200.334047 \r\nL 96.843828 200.111883 \r\nL 97.343878 200.093372 \r\nL 97.510561 199.973027 \r\nL 97.677244 199.426871 \r\nL 97.843927 199.667546 \r\nL 98.010611 199.48241 \r\nL 98.51066 199.686064 \r\nL 98.677344 199.963768 \r\nL 98.844027 199.649036 \r\nL 99.01071 199.750862 \r\nL 99.177393 199.53795 \r\nL 99.677443 199.48241 \r\nL 99.844127 200.148911 \r\nL 100.01081 199.389842 \r\nL 100.177493 199.53795 \r\nL 100.344176 199.436123 \r\nL 100.844226 199.325044 \r\nL 101.510959 198.621515 \r\nL 102.011009 198.908477 \r\nL 102.177692 198.741852 \r\nL 102.344375 198.899226 \r\nL 102.511059 198.741852 \r\nL 103.344475 198.973276 \r\nL 103.677842 199.4639 \r\nL 104.344575 198.973276 \r\nL 104.511258 199.056592 \r\nL 104.677941 199.380583 \r\nL 104.844624 198.954765 \r\nL 105.011308 198.121639 \r\nL 105.678041 196.714587 \r\nL 105.844724 196.797896 \r\nL 106.17809 196.214711 \r\nL 106.67814 195.335297 \r\nL 107.011507 195.640778 \r\nL 107.17819 195.89072 \r\nL 107.344873 195.714835 \r\nL 108.011606 195.677807 \r\nL 108.17829 195.427873 \r\nL 108.344973 196.214711 \r\nL 108.511656 196.288768 \r\nL 109.011706 196.242481 \r\nL 109.178389 195.335297 \r\nL 109.345072 197.121887 \r\nL 109.511756 196.908982 \r\nL 109.678439 196.927493 \r\nL 110.511855 195.927748 \r\nL 110.845222 194.82617 \r\nL 111.511955 194.409603 \r\nL 111.678638 194.937256 \r\nL 111.845321 194.696573 \r\nL 112.012005 193.159918 \r\nL 112.678738 192.456395 \r\nL 112.845421 192.576733 \r\nL 113.012104 192.984041 \r\nL 113.178787 194.49292 \r\nL 113.678837 194.992795 \r\nL 113.845521 194.187439 \r\nL 114.178887 194.881709 \r\nL 114.34557 194.789141 \r\nL 114.84562 193.983785 \r\nL 115.012303 194.87245 \r\nL 115.178987 194.539207 \r\nL 115.34567 194.548459 \r\nL 115.512353 193.669052 \r\nL 116.012403 194.298525 \r\nL 116.179086 195.520441 \r\nL 116.345769 194.974277 \r\nL 116.512453 196.186941 \r\nL 116.679136 195.779634 \r\nL 117.179186 196.483163 \r\nL 117.512552 195.640778 \r\nL 117.679236 196.112884 \r\nL 117.845919 195.289017 \r\nL 118.512652 194.7984 \r\nL 119.012702 192.215713 \r\nL 119.512751 191.688067 \r\nL 119.679435 191.734348 \r\nL 120.012801 190.882711 \r\nL 120.179484 191.28076 \r\nL 120.679534 191.456644 \r\nL 120.846218 190.910481 \r\nL 121.012901 191.040077 \r\nL 121.179584 191.863944 \r\nL 122.013 192.400849 \r\nL 122.346367 192.798898 \r\nL 122.51305 192.308281 \r\nL 123.0131 192.567474 \r\nL 123.179783 192.206454 \r\nL 123.346466 192.502676 \r\nL 123.51315 193.483909 \r\nL 123.679833 192.474906 \r\nL 124.179883 191.465903 \r\nL 124.346566 191.808405 \r\nL 124.513249 191.410356 \r\nL 124.679933 192.567474 \r\nL 124.846616 192.484165 \r\nL 125.346666 192.798898 \r\nL 125.513349 191.863944 \r\nL 125.680032 192.271252 \r\nL 125.846715 192.299022 \r\nL 126.013399 192.178684 \r\nL 126.513448 192.169425 \r\nL 126.680132 191.965771 \r\nL 127.013498 190.373583 \r\nL 127.180181 191.141904 \r\nL 128.013598 191.64178 \r\nL 128.180281 190.771632 \r\nL 128.346964 191.104876 \r\nL 128.847014 190.382835 \r\nL 129.013697 190.456892 \r\nL 129.180381 189.966276 \r\nL 129.347064 190.373583 \r\nL 129.513747 189.873708 \r\nL 130.013797 190.012556 \r\nL 130.18048 189.753363 \r\nL 130.513847 190.89197 \r\nL 130.68053 190.706827 \r\nL 131.18058 191.771376 \r\nL 131.347263 191.771376 \r\nL 131.513946 191.22522 \r\nL 131.68063 191.206702 \r\nL 131.847313 190.632777 \r\nL 132.347363 190.521691 \r\nL 132.514046 190.845682 \r\nL 132.680729 190.447634 \r\nL 132.847412 189.262746 \r\nL 133.014096 189.234977 \r\nL 133.847512 188.846187 \r\nL 134.180878 187.855694 \r\nL 134.847612 187.763126 \r\nL 135.014295 187.744608 \r\nL 135.180978 187.466897 \r\nL 135.347661 186.633778 \r\nL 136.014394 186.587491 \r\nL 136.181078 186.800403 \r\nL 136.347761 186.680059 \r\nL 136.514444 182.005308 \r\nL 137.014494 181.93125 \r\nL 137.181177 182.588492 \r\nL 137.34786 182.588492 \r\nL 137.514544 181.783136 \r\nL 138.181277 181.394346 \r\nL 138.34796 181.579489 \r\nL 138.514643 181.311037 \r\nL 138.84801 181.949761 \r\nL 139.514743 181.783136 \r\nL 139.681426 182.773628 \r\nL 139.848109 182.569982 \r\nL 140.014793 183.310533 \r\nL 140.514842 183.190195 \r\nL 140.681526 182.088617 \r\nL 140.848209 182.653291 \r\nL 141.181575 182.514435 \r\nL 141.681625 181.949761 \r\nL 141.848309 181.014815 \r\nL 142.014992 182.440385 \r\nL 142.181675 181.672057 \r\nL 142.348358 181.588741 \r\nL 142.848408 184.532449 \r\nL 143.015091 184.06035 \r\nL 143.181775 182.958771 \r\nL 143.348458 183.227224 \r\nL 143.515141 181.681309 \r\nL 144.181874 180.366825 \r\nL 144.348557 180.579738 \r\nL 144.515241 181.190692 \r\nL 144.681924 179.191197 \r\nL 145.181974 179.626274 \r\nL 145.51534 180.422371 \r\nL 146.51544 180.53345 \r\nL 146.682123 180.246487 \r\nL 146.848806 180.237228 \r\nL 147.01549 180.403854 \r\nL 147.682223 180.024323 \r\nL 147.848906 179.654044 \r\nL 148.182272 177.950763 \r\nL 148.849006 177.922993 \r\nL 149.015689 178.293272 \r\nL 149.182372 178.05259 \r\nL 149.349055 176.645538 \r\nL 150.015788 177.802655 \r\nL 150.182472 176.145662 \r\nL 150.515838 176.275259 \r\nL 151.182571 174.516438 \r\nL 151.349254 174.590496 \r\nL 151.515938 174.11839 \r\nL 151.682621 172.516943 \r\nL 152.182671 172.646539 \r\nL 152.349354 173.738859 \r\nL 152.516037 171.637529 \r\nL 152.682721 172.3318 \r\nL 152.849404 174.627524 \r\nL 153.349454 178.126647 \r\nL 153.516137 175.044084 \r\nL 153.68282 176.636279 \r\nL 153.849503 180.89447 \r\nL 154.016187 177.960022 \r\nL 154.516236 177.080615 \r\nL 154.849603 175.525449 \r\nL 155.016286 173.812909 \r\nL 155.182969 174.42387 \r\nL 155.849703 173.757369 \r\nL 156.016386 174.895976 \r\nL 156.183069 174.673805 \r\nL 156.349752 172.516943 \r\nL 156.849802 171.257998 \r\nL 157.183169 172.785395 \r\nL 157.349852 173.637032 \r\nL 158.016585 172.905732 \r\nL 158.183268 173.201954 \r\nL 158.516635 172.174433 \r\nL 158.683318 170.221218 \r\nL 159.183368 170.008312 \r\nL 159.350051 172.192944 \r\nL 159.516734 172.711338 \r\nL 159.850101 172.017067 \r\nL 160.350151 173.600003 \r\nL 160.516834 173.377838 \r\nL 160.683517 173.979534 \r\nL 161.016884 178.885716 \r\nL 161.516933 172.776136 \r\nL 161.683617 176.765875 \r\nL 161.8503 176.839933 \r\nL 162.016983 175.09963 \r\nL 162.683716 177.645289 \r\nL 162.8504 176.543711 \r\nL 163.017083 174.11839 \r\nL 163.183766 174.072109 \r\nL 163.350449 176.062346 \r\nL 163.850499 175.562477 \r\nL 164.017182 173.609262 \r\nL 164.183866 174.553467 \r\nL 164.350549 172.961272 \r\nL 164.517232 173.424119 \r\nL 165.017282 172.415116 \r\nL 165.183965 170.656295 \r\nL 165.350648 170.313786 \r\nL 165.517332 170.619267 \r\nL 165.684015 171.646788 \r\nL 166.184065 171.322796 \r\nL 166.517431 174.136907 \r\nL 166.850798 170.887719 \r\nL 167.350848 173.016818 \r\nL 167.517531 171.646788 \r\nL 167.684214 173.02607 \r\nL 167.850897 172.507684 \r\nL 168.017581 171.498673 \r\nL 168.51763 170.51744 \r\nL 168.684314 170.896978 \r\nL 169.01768 168.953015 \r\nL 169.184363 169.147417 \r\nL 169.684413 168.841936 \r\nL 169.851097 169.499178 \r\nL 170.01778 169.656544 \r\nL 170.184463 170.554469 \r\nL 170.351146 170.387843 \r\nL 170.851196 169.239985 \r\nL 171.017879 169.332553 \r\nL 171.184563 168.258744 \r\nL 171.351246 168.582743 \r\nL 171.517929 168.536455 \r\nL 172.184662 168.860447 \r\nL 172.351345 167.990299 \r\nL 172.518029 168.092126 \r\nL 172.684712 166.287018 \r\nL 173.351445 164.991045 \r\nL 173.518128 164.713341 \r\nL 173.684812 166.203709 \r\nL 173.851495 165.509438 \r\nL 174.351545 166.046336 \r\nL 174.518228 165.80566 \r\nL 174.684911 166.231479 \r\nL 174.851594 165.703833 \r\nL 175.018278 166.897979 \r\nL 175.518327 166.22222 \r\nL 175.685011 166.22222 \r\nL 175.851694 165.287267 \r\nL 176.68511 168.508685 \r\nL 176.851794 167.869954 \r\nL 177.018477 169.295524 \r\nL 177.18516 168.286521 \r\nL 177.351843 168.305031 \r\nL 177.851893 167.009058 \r\nL 178.018576 167.897724 \r\nL 178.351943 167.240482 \r\nL 178.518626 165.944509 \r\nL 179.185359 165.055843 \r\nL 179.352042 165.18544 \r\nL 179.685409 161.991798 \r\nL 180.185459 162.473156 \r\nL 180.352142 161.51044 \r\nL 180.685509 162.945262 \r\nL 180.852192 161.214218 \r\nL 181.352242 159.640534 \r\nL 181.518925 159.927497 \r\nL 181.685608 156.993048 \r\nL 182.519024 162.047337 \r\nL 182.685708 161.390095 \r\nL 182.852391 161.204959 \r\nL 183.185757 159.575735 \r\nL 183.685807 159.492426 \r\nL 184.019174 158.233482 \r\nL 184.185857 158.066857 \r\nL 184.35254 158.68707 \r\nL 184.85259 159.418369 \r\nL 185.019273 158.168683 \r\nL 185.185957 159.927497 \r\nL 185.519323 160.001554 \r\nL 186.019373 160.658796 \r\nL 186.186056 161.482663 \r\nL 186.519423 160.020072 \r\nL 186.686106 159.242485 \r\nL 187.352839 157.520693 \r\nL 187.519522 155.891477 \r\nL 187.686206 155.956275 \r\nL 187.852889 155.604507 \r\nL 188.519622 156.17844 \r\nL 188.686305 159.159176 \r\nL 188.852988 158.927752 \r\nL 189.019672 159.418369 \r\nL 189.519721 158.335309 \r\nL 189.686405 156.613517 \r\nL 189.853088 156.17844 \r\nL 190.186454 154.641784 \r\nL 190.686504 155.780391 \r\nL 190.853188 154.789898 \r\nL 191.019871 156.187699 \r\nL 191.353237 153.817917 \r\nL 191.853287 153.438386 \r\nL 192.01997 153.64204 \r\nL 192.186654 154.07711 \r\nL 192.353337 153.679061 \r\nL 192.52002 153.71609 \r\nL 193.02007 152.568231 \r\nL 193.186753 152.99405 \r\nL 193.353436 152.975539 \r\nL 193.52012 155.178688 \r\nL 193.686803 155.78965 \r\nL 194.186853 156.974537 \r\nL 194.353536 155.669305 \r\nL 194.520219 161.316038 \r\nL 194.686903 161.547461 \r\nL 194.853586 158.159425 \r\nL 195.353636 159.983043 \r\nL 195.520319 156.835682 \r\nL 195.687002 157.104134 \r\nL 195.853685 159.149917 \r\nL 196.020369 159.001803 \r\nL 196.520418 158.103885 \r\nL 196.687102 159.520196 \r\nL 196.853785 164.870707 \r\nL 197.020468 159.335053 \r\nL 197.187151 160.575487 \r\nL 197.687201 163.454396 \r\nL 197.853885 163.565475 \r\nL 198.020568 160.714342 \r\nL 198.187251 161.53821 \r\nL 198.353934 161.316038 \r\nL 199.020667 159.871957 \r\nL 199.187351 155.947016 \r\nL 199.354034 156.141411 \r\nL 199.520717 158.159425 \r\nL 200.020767 160.658796 \r\nL 200.18745 160.593998 \r\nL 200.354133 162.417616 \r\nL 200.6875 159.344312 \r\nL 201.18755 162.741608 \r\nL 201.354233 165.435381 \r\nL 201.520916 164.139408 \r\nL 201.854283 164.176436 \r\nL 202.521016 160.408862 \r\nL 202.687699 156.724596 \r\nL 202.854382 157.585492 \r\nL 203.021066 156.937509 \r\nL 203.521115 155.826678 \r\nL 203.687799 159.131406 \r\nL 204.021165 158.511186 \r\nL 204.187849 162.556472 \r\nL 205.021265 158.613013 \r\nL 205.187948 158.27051 \r\nL 205.354631 161.436383 \r\nL 205.854681 164.343062 \r\nL 206.021364 163.34331 \r\nL 206.188048 163.602504 \r\nL 207.021464 172.452144 \r\nL 207.35483 166.499931 \r\nL 207.521514 165.925998 \r\nL 207.688197 166.657297 \r\nL 208.188247 165.564978 \r\nL 208.521613 165.981537 \r\nL 208.688297 169.425121 \r\nL 208.85498 165.231727 \r\nL 209.35503 165.11139 \r\nL 209.521713 164.426371 \r\nL 209.688396 163.065606 \r\nL 210.021763 164.426371 \r\nL 210.521812 165.120641 \r\nL 210.688496 162.380588 \r\nL 210.855179 162.038085 \r\nL 211.021862 161.353067 \r\nL 211.188546 159.881216 \r\nL 211.855279 161.760374 \r\nL 212.021962 160.80691 \r\nL 212.188645 161.279016 \r\nL 212.355328 160.381092 \r\nL 212.855378 162.315789 \r\nL 213.022061 164.296774 \r\nL 213.188745 161.112391 \r\nL 213.522111 164.444889 \r\nL 214.188844 160.334804 \r\nL 214.522211 162.139912 \r\nL 214.688894 161.769633 \r\nL 215.188944 162.158423 \r\nL 215.355627 160.640285 \r\nL 215.52231 160.714342 \r\nL 215.688994 160.631026 \r\nL 215.855677 159.40911 \r\nL 216.52241 159.455398 \r\nL 216.689093 160.399603 \r\nL 217.02246 156.863451 \r\nL 217.522509 156.289525 \r\nL 217.689193 155.576737 \r\nL 218.022559 155.882218 \r\nL 218.189243 155.419371 \r\nL 218.689292 155.669305 \r\nL 218.855976 156.187699 \r\nL 219.022659 156.141411 \r\nL 219.189342 157.400356 \r\nL 219.356025 157.28927 \r\nL 220.189442 153.595752 \r\nL 220.356125 153.512443 \r\nL 220.522808 152.29052 \r\nL 221.022858 150.753871 \r\nL 221.189541 150.679814 \r\nL 221.356224 150.800159 \r\nL 221.522908 148.300781 \r\nL 221.689591 151.235229 \r\nL 222.356324 150.439132 \r\nL 222.523007 151.49443 \r\nL 222.689691 151.346315 \r\nL 222.856374 150.411362 \r\nL 223.68979 148.532204 \r\nL 223.856473 149.096878 \r\nL 224.023157 148.606261 \r\nL 224.523206 148.569233 \r\nL 224.68989 149.170935 \r\nL 224.856573 148.32855 \r\nL 225.023256 148.198954 \r\nL 225.18994 147.625028 \r\nL 225.689989 147.532453 \r\nL 225.856673 147.791653 \r\nL 226.190039 145.384843 \r\nL 226.856772 145.023822 \r\nL 227.023455 143.468656 \r\nL 227.190139 143.866705 \r\nL 227.356822 140.034339 \r\nL 227.523505 139.34932 \r\nL 228.023555 139.460399 \r\nL 228.190238 138.692071 \r\nL 228.523605 142.755875 \r\nL 228.690288 140.265762 \r\nL 229.190338 140.960033 \r\nL 229.357021 143.394606 \r\nL 229.690388 143.413117 \r\nL 229.857071 141.904238 \r\nL 230.357121 145.40336 \r\nL 230.690487 142.931759 \r\nL 230.85717 140.237993 \r\nL 231.023854 141.034076 \r\nL 231.523903 142.746616 \r\nL 231.85727 141.404362 \r\nL 232.023953 142.783644 \r\nL 232.190637 142.728105 \r\nL 232.85737 142.802155 \r\nL 233.024053 143.931503 \r\nL 233.190736 143.200204 \r\nL 233.357419 145.09788 \r\nL 233.857469 148.652549 \r\nL 234.524202 137.951527 \r\nL 235.024252 136.840683 \r\nL 235.357618 137.868204 \r\nL 235.524302 137.099876 \r\nL 236.191035 136.609259 \r\nL 236.357718 134.470908 \r\nL 236.524401 133.980291 \r\nL 236.691085 132.813922 \r\nL 236.857768 132.795404 \r\nL 237.357818 132.045594 \r\nL 237.524501 136.072369 \r\nL 237.857867 135.405868 \r\nL 238.024551 135.581738 \r\nL 238.691284 133.156424 \r\nL 238.857967 132.341809 \r\nL 239.191334 132.712095 \r\nL 239.691383 132.804656 \r\nL 239.858067 133.267503 \r\nL 240.191433 131.471668 \r\nL 240.358116 131.008821 \r\nL 240.858166 131.008821 \r\nL 241.191533 133.443387 \r\nL 241.524899 133.119402 \r\nL 242.191632 130.647801 \r\nL 242.358315 129.324051 \r\nL 242.524999 129.814667 \r\nL 242.691682 128.750125 \r\nL 243.191732 129.037088 \r\nL 243.358415 129.666553 \r\nL 243.525098 133.443387 \r\nL 243.691782 131.786401 \r\nL 243.858465 132.860209 \r\nL 244.358515 137.201703 \r\nL 244.525198 134.905985 \r\nL 244.691881 134.359829 \r\nL 244.858564 131.018073 \r\nL 245.025248 132.110385 \r\nL 245.525297 133.88773 \r\nL 245.691981 131.286518 \r\nL 245.858664 135.563234 \r\nL 246.025347 135.840945 \r\nL 246.192031 133.572983 \r\nL 246.69208 131.462402 \r\nL 246.858764 132.526959 \r\nL 247.025447 131.110648 \r\nL 247.19213 132.045594 \r\nL 247.358813 136.10939 \r\nL 248.025546 133.934004 \r\nL 248.19223 134.100636 \r\nL 248.358913 131.730861 \r\nL 248.525596 131.971537 \r\nL 249.192329 133.656307 \r\nL 249.525696 129.944264 \r\nL 249.692379 130.823671 \r\nL 250.192429 132.286269 \r\nL 250.359112 133.619271 \r\nL 250.525795 133.582249 \r\nL 250.692479 132.286269 \r\nL 250.859162 132.471405 \r\nL 251.359212 133.387847 \r\nL 251.692578 131.360575 \r\nL 251.859261 129.000052 \r\nL 252.025945 130.508938 \r\nL 252.525994 130.786649 \r\nL 252.692678 132.415866 \r\nL 252.859361 130.582995 \r\nL 253.026044 130.416377 \r\nL 253.192728 132.091881 \r\nL 253.692777 130.888476 \r\nL 254.026144 134.943021 \r\nL 254.35951 131.730861 \r\nL 254.85956 132.656555 \r\nL 255.026243 133.998809 \r\nL 255.35961 130.823671 \r\nL 255.526293 130.286781 \r\nL 256.026343 130.407111 \r\nL 256.193026 128.537205 \r\nL 256.693076 132.388096 \r\nL 257.193126 131.443898 \r\nL 257.359809 133.350826 \r\nL 257.526492 132.545462 \r\nL 257.693176 130.046091 \r\nL 257.859859 129.314799 \r\nL 258.359909 126.111891 \r\nL 258.526592 127.370836 \r\nL 258.693275 125.723101 \r\nL 258.859958 126.870967 \r\nL 259.526691 125.77864 \r\nL 259.693375 125.86195 \r\nL 259.860058 126.232236 \r\nL 260.026741 126.0471 \r\nL 260.193425 124.473408 \r\nL 260.693474 124.33456 \r\nL 260.860158 123.445887 \r\nL 261.026841 123.22373 \r\nL 261.193524 122.529459 \r\nL 261.360207 120.76138 \r\nL 262.02694 120.37259 \r\nL 262.193624 121.085379 \r\nL 262.360307 121.214975 \r\nL 262.52699 121.113148 \r\nL 263.360407 118.585993 \r\nL 263.693773 119.456148 \r\nL 264.360506 121.372341 \r\nL 264.527189 120.872459 \r\nL 264.693873 120.798416 \r\nL 264.860556 119.113645 \r\nL 265.527289 119.687571 \r\nL 265.693972 119.159933 \r\nL 266.027339 116.540217 \r\nL 266.527388 115.614523 \r\nL 266.860755 116.688331 \r\nL 267.194122 113.874213 \r\nL 267.860855 113.901983 \r\nL 268.360904 112.439385 \r\nL 268.860954 113.707595 \r\nL 269.027637 113.605768 \r\nL 269.361004 110.902743 \r\nL 269.527687 112.754131 \r\nL 270.027737 112.374593 \r\nL 270.19442 113.716847 \r\nL 270.527787 109.541971 \r\nL 270.69447 110.236242 \r\nL 271.19452 108.440393 \r\nL 271.361203 109.504936 \r\nL 271.527886 108.532968 \r\nL 271.69457 105.765138 \r\nL 271.861253 104.904235 \r\nL 272.527986 105.459657 \r\nL 272.694669 106.200215 \r\nL 272.861352 105.256003 \r\nL 273.028036 106.811177 \r\nL 273.528085 109.366087 \r\nL 274.028135 99.646299 \r\nL 274.194819 102.006822 \r\nL 274.694868 98.165183 \r\nL 274.861552 92.851707 \r\nL 275.028235 93.055361 \r\nL 275.194918 89.602512 \r\nL 275.361601 89.361836 \r\nL 275.861651 84.90925 \r\nL 276.028334 88.852702 \r\nL 276.195018 88.60276 \r\nL 276.361701 89.528455 \r\nL 276.528384 88.010317 \r\nL 277.195117 86.270021 \r\nL 277.361801 86.223734 \r\nL 277.528484 88.87122 \r\nL 277.695167 94.268018 \r\nL 278.3619 104.00631 \r\nL 278.528583 102.062361 \r\nL 278.695267 113.161439 \r\nL 279.362 99.637047 \r\nL 279.528683 107.301793 \r\nL 279.695366 101.710593 \r\nL 280.528782 120.159684 \r\nL 280.695466 110.625032 \r\nL 280.862149 117.373336 \r\nL 281.028832 130.860706 \r\nL 281.195516 112.559729 \r\nL 281.695565 134.230232 \r\nL 281.862249 123.908734 \r\nL 282.028932 129.62028 \r\nL 282.195615 127.481914 \r\nL 282.362298 132.443635 \r\nL 282.862348 133.711846 \r\nL 283.029031 122.270266 \r\nL 283.195715 123.58475 \r\nL 283.362398 115.077618 \r\nL 283.529081 121.011321 \r\nL 284.029131 111.263763 \r\nL 284.195814 113.596502 \r\nL 284.362498 118.780395 \r\nL 284.529181 115.864464 \r\nL 284.695864 117.1882 \r\nL 285.195914 106.598257 \r\nL 285.362597 108.245991 \r\nL 285.52928 106.727853 \r\nL 285.695964 106.718602 \r\nL 286.362697 106.376099 \r\nL 286.52938 98.794662 \r\nL 286.696063 100.479418 \r\nL 286.862746 95.702847 \r\nL 287.02943 94.258752 \r\nL 287.529479 97.535717 \r\nL 287.696163 104.237734 \r\nL 287.862846 98.96128 \r\nL 288.029529 100.905243 \r\nL 288.196213 98.007816 \r\nL 288.696262 98.470663 \r\nL 288.862946 102.395612 \r\nL 289.029629 95.341827 \r\nL 289.196312 93.694078 \r\nL 289.362995 97.989298 \r\nL 290.529778 88.630544 \r\nL 290.529778 88.630544 \r\n\" style=\"fill:none;stroke:#1f77b4;stroke-linecap:square;stroke-width:1.5;\"/>\r\n   </g>\r\n   <g id=\"line2d_12\">\r\n    <path clip-path=\"url(#p750ad89143)\" d=\"M 291.029828 86.723602 \r\nL 291.363195 93.19421 \r\nL 291.529878 92.472169 \r\nL 291.696561 90.037589 \r\nL 292.196611 88.417624 \r\nL 292.363294 89.602512 \r\nL 292.529977 87.723354 \r\nL 292.696661 89.787662 \r\nL 292.863344 89.713605 \r\nL 293.530077 91.509439 \r\nL 293.69676 91.287282 \r\nL 293.863443 91.66682 \r\nL 294.030127 89.95428 \r\nL 294.530176 90.34307 \r\nL 294.69686 88.417624 \r\nL 294.863543 88.001065 \r\nL 295.030226 90.259761 \r\nL 295.19691 86.297791 \r\nL 295.696959 85.223982 \r\nL 295.863643 83.890981 \r\nL 296.030326 77.3741 \r\nL 296.197009 87.15868 \r\nL 296.363692 85.797908 \r\nL 296.863742 84.687078 \r\nL 297.030425 80.40111 \r\nL 297.197109 79.780896 \r\nL 297.363792 77.855451 \r\nL 297.530475 78.938526 \r\nL 298.197208 72.680824 \r\nL 298.363892 76.448406 \r\nL 298.530575 74.134171 \r\nL 298.697258 77.846199 \r\nL 299.197308 75.892984 \r\nL 299.363991 71.199722 \r\nL 300.364091 64.543979 \r\nL 300.530774 66.811927 \r\nL 300.697457 62.572246 \r\nL 300.86414 61.192956 \r\nL 301.030824 61.794666 \r\nL 301.530873 67.904239 \r\nL 301.697557 66.719352 \r\nL 301.86424 67.006329 \r\nL 302.030923 70.820184 \r\nL 302.197607 71.7829 \r\nL 302.697656 63.710846 \r\nL 302.86434 66.34908 \r\nL 303.031023 63.571997 \r\nL 303.197706 72.097646 \r\nL 303.364389 73.245498 \r\nL 303.864439 70.884975 \r\nL 304.031122 72.578997 \r\nL 304.197806 70.690587 \r\nL 304.364489 70.838702 \r\nL 304.531172 69.811181 \r\nL 305.031222 59.137928 \r\nL 305.197905 62.146434 \r\nL 305.364589 62.470419 \r\nL 305.531272 59.313798 \r\nL 305.697955 62.896244 \r\nL 306.198005 66.811927 \r\nL 306.364688 71.320053 \r\nL 306.531371 65.941772 \r\nL 306.698055 66.395367 \r\nL 306.864738 66.210231 \r\nL 307.364788 64.932769 \r\nL 307.531471 63.812673 \r\nL 307.698154 65.469673 \r\nL 307.864837 60.952281 \r\nL 308.031521 62.396362 \r\nL 308.53157 61.776148 \r\nL 308.698254 59.20272 \r\nL 309.198304 47.687082 \r\nL 309.698353 50.815933 \r\nL 309.865037 49.20522 \r\nL 310.03172 45.150689 \r\nL 310.198403 58.434392 \r\nL 311.031819 71.986553 \r\nL 311.198503 63.997823 \r\nL 311.365186 69.47793 \r\nL 311.531869 70.718357 \r\nL 312.031919 69.440895 \r\nL 312.198602 66.32131 \r\nL 312.531969 71.75513 \r\nL 312.698652 74.087883 \r\nL 313.198702 72.097646 \r\nL 313.365385 67.580254 \r\nL 313.532068 73.902747 \r\nL 313.698752 71.495937 \r\nL 313.865435 67.209968 \r\nL 314.365485 65.710348 \r\nL 314.532168 67.728369 \r\nL 314.865534 62.914748 \r\nL 315.032218 68.718854 \r\nL 315.532267 64.840194 \r\nL 315.698951 68.978048 \r\nL 315.865634 65.349328 \r\nL 316.032317 64.655058 \r\nL 316.199001 59.813681 \r\nL 316.865734 53.287535 \r\nL 317.1991 56.249753 \r\nL 317.365783 56.249753 \r\nL 317.865833 61.285531 \r\nL 318.1992 60.748627 \r\nL 318.365883 60.665318 \r\nL 318.532566 59.424891 \r\nL 319.032616 65.117905 \r\nL 319.199299 62.183456 \r\nL 319.365983 71.96805 \r\nL 319.532666 70.079626 \r\nL 319.699349 72.162438 \r\nL 320.199399 72.292034 \r\nL 320.366082 68.496697 \r\nL 320.699449 52.889493 \r\nL 320.866132 52.491437 \r\nL 321.366182 57.425389 \r\nL 321.532865 64.257016 \r\nL 321.699548 59.128662 \r\nL 321.866231 60.156184 \r\nL 322.032915 59.165698 \r\nL 322.532965 58.499197 \r\nL 322.866331 64.192211 \r\nL 323.033014 62.951784 \r\nL 323.199698 64.830942 \r\nL 323.699747 65.090135 \r\nL 323.866431 61.618782 \r\nL 324.033114 61.60953 \r\nL 324.36648 60.350586 \r\nL 324.86653 61.42438 \r\nL 325.033213 59.443395 \r\nL 325.36658 61.267014 \r\nL 325.533263 61.155935 \r\nL 326.033313 61.22074 \r\nL 326.199996 59.628545 \r\nL 326.36668 63.52571 \r\nL 326.533363 64.710597 \r\nL 326.700046 62.174204 \r\nL 327.200096 61.304049 \r\nL 327.366779 61.368841 \r\nL 327.533462 56.601521 \r\nL 327.700146 56.471925 \r\nL 327.866829 57.240253 \r\nL 328.533562 52.287783 \r\nL 328.700245 54.990809 \r\nL 328.866928 53.389362 \r\nL 329.533662 51.343571 \r\nL 329.700345 52.093395 \r\nL 329.867028 54.379861 \r\nL 330.033711 53.694842 \r\nL 330.700444 58.073372 \r\nL 330.867128 57.878984 \r\nL 331.033811 63.10915 \r\nL 331.200494 57.517964 \r\nL 331.367177 56.286789 \r\nL 331.867227 58.258508 \r\nL 332.03391 60.628297 \r\nL 332.200594 59.323064 \r\nL 332.367277 62.396362 \r\nL 332.53396 62.738878 \r\nL 333.200693 59.230489 \r\nL 333.367377 51.917511 \r\nL 333.700743 50.427143 \r\nL 334.200793 47.113156 \r\nL 334.367476 44.52121 \r\nL 334.534159 43.993572 \r\nL 334.700843 38.411637 \r\nL 334.867526 44.863712 \r\nL 335.367576 37.745136 \r\nL 335.534259 37.874733 \r\nL 335.700942 34.644055 \r\nL 335.867625 35.560498 \r\nL 336.034309 35.384613 \r\nL 336.534359 35.134672 \r\nL 336.701042 33.931267 \r\nL 336.867725 34.810673 \r\nL 337.034408 33.264766 \r\nL 337.201092 32.801919 \r\nL 337.867825 33.996072 \r\nL 338.034508 33.533225 \r\nL 338.201191 33.912763 \r\nL 338.367874 36.523213 \r\nL 339.034607 43.651055 \r\nL 339.201291 42.466168 \r\nL 339.367974 47.613025 \r\nL 339.534657 44.474923 \r\nL 340.034707 40.25376 \r\nL 340.20139 43.095647 \r\nL 340.368074 48.936775 \r\nL 340.534757 49.705103 \r\nL 340.70144 45.196963 \r\nL 341.20149 49.094141 \r\nL 341.368173 43.178956 \r\nL 341.534856 44.437901 \r\nL 341.70154 40.077875 \r\nL 341.868223 41.355338 \r\nL 342.368273 42.225493 \r\nL 342.534956 39.540971 \r\nL 342.701639 40.161199 \r\nL 342.868322 46.011578 \r\nL 343.035006 46.354081 \r\nL 343.701739 39.661316 \r\nL 344.035105 44.511958 \r\nL 344.201789 40.679585 \r\nL 344.701838 41.827437 \r\nL 344.868522 44.965539 \r\nL 345.035205 41.33682 \r\nL 345.201888 35.245751 \r\nL 345.868621 29.025085 \r\nL 346.035304 30.145181 \r\nL 346.368671 25.15569 \r\nL 346.535354 22.74888 \r\nL 347.035404 22.693341 \r\nL 347.202087 20.305062 \r\nL 347.368771 22.989569 \r\nL 347.535454 19.370102 \r\nL 347.702137 18.22225 \r\nL 348.36887 20.517954 \r\nL 348.535553 18.370365 \r\nL 348.702237 21.526957 \r\nL 348.86892 17.842712 \r\nL 349.36897 17.47244 \r\nL 349.535653 17.083636 \r\nL 349.702336 23.943033 \r\nL 349.869019 25.840709 \r\nL 350.035703 26.14619 \r\nL 350.535753 26.442405 \r\nL 350.702436 30.209987 \r\nL 350.869119 31.431896 \r\nL 351.202486 25.886983 \r\nL 351.869219 31.654067 \r\nL 352.035902 38.346832 \r\nL 352.369268 29.876736 \r\nL 352.869318 32.570495 \r\nL 352.869318 32.570495 \r\n\" style=\"fill:none;stroke:#ff7f0e;stroke-linecap:square;stroke-width:1.5;\"/>\r\n   </g>\r\n   <g id=\"line2d_13\">\r\n    <path clip-path=\"url(#p750ad89143)\" d=\"M 291.029828 94.872539 \r\nL 291.363195 92.989793 \r\nL 291.696561 92.264645 \r\nL 292.196611 92.026752 \r\nL 292.863344 90.886924 \r\nL 293.69676 90.706788 \r\nL 294.69686 91.09764 \r\nL 295.030226 90.859013 \r\nL 295.696959 90.479955 \r\nL 296.030326 89.463861 \r\nL 296.363692 87.786097 \r\nL 296.863742 87.307614 \r\nL 297.197109 86.375832 \r\nL 297.530475 84.946003 \r\nL 298.030525 84.187125 \r\nL 298.697258 80.232133 \r\nL 299.197308 79.652599 \r\nL 299.530674 78.565739 \r\nL 299.697358 77.81963 \r\nL 300.364091 76.955563 \r\nL 301.030824 72.202228 \r\nL 301.530873 70.949569 \r\nL 301.86424 69.677502 \r\nL 302.030923 69.413252 \r\nL 303.031023 70.080502 \r\nL 303.197706 69.922839 \r\nL 304.031122 71.133236 \r\nL 304.531172 72.579859 \r\nL 305.031222 72.826905 \r\nL 305.364589 71.627087 \r\nL 305.697955 69.79409 \r\nL 306.531371 68.547123 \r\nL 307.531471 68.970985 \r\nL 307.864837 68.861983 \r\nL 308.031521 68.567039 \r\nL 308.53157 68.225624 \r\nL 308.864937 67.291681 \r\nL 309.865037 62.120035 \r\nL 310.365086 58.506316 \r\nL 311.031819 58.516303 \r\nL 311.531869 62.330144 \r\nL 312.031919 64.034689 \r\nL 312.531969 68.097652 \r\nL 312.698652 69.22991 \r\nL 313.198702 70.395149 \r\nL 313.532068 71.952752 \r\nL 313.865435 73.056562 \r\nL 314.365485 73.162782 \r\nL 314.698851 72.664199 \r\nL 315.032218 71.50314 \r\nL 315.532267 71.084646 \r\nL 315.865634 70.422863 \r\nL 316.69905 69.327316 \r\nL 317.1991 65.732397 \r\nL 317.365783 64.597117 \r\nL 318.1992 62.955442 \r\nL 318.365883 62.964581 \r\nL 318.532566 63.094672 \r\nL 319.032616 63.218096 \r\nL 319.365983 64.083279 \r\nL 319.699349 66.156387 \r\nL 320.199399 67.416984 \r\nL 320.532765 69.674395 \r\nL 320.699449 69.873415 \r\nL 320.866132 69.202211 \r\nL 321.366182 67.999568 \r\nL 321.699548 66.122812 \r\nL 322.032915 64.996698 \r\nL 322.532965 64.588995 \r\nL 322.866331 64.047514 \r\nL 323.699747 64.85059 \r\nL 324.033114 65.679019 \r\nL 324.36648 65.872786 \r\nL 325.033213 65.863237 \r\nL 325.533263 65.321234 \r\nL 326.199996 65.119586 \r\nL 326.36668 64.97537 \r\nL 326.533363 65.030852 \r\nL 326.700046 65.268505 \r\nL 327.533462 65.61266 \r\nL 328.366879 64.382502 \r\nL 328.866928 62.062193 \r\nL 329.533662 61.347003 \r\nL 330.033711 59.423917 \r\nL 330.867128 59.093138 \r\nL 331.033811 59.312414 \r\nL 331.367177 60.48062 \r\nL 331.867227 60.846457 \r\nL 332.367277 62.02746 \r\nL 332.53396 62.542838 \r\nL 333.200693 63.115845 \r\nL 333.367377 63.486061 \r\nL 333.53406 63.28793 \r\nL 333.700743 62.720219 \r\nL 334.200793 61.896761 \r\nL 334.700843 57.932164 \r\nL 334.867526 56.185287 \r\nL 335.367576 54.767577 \r\nL 336.034309 48.805455 \r\nL 336.534359 47.564746 \r\nL 337.034408 44.773397 \r\nL 337.201092 44.082432 \r\nL 337.867825 43.46284 \r\nL 338.367874 42.362321 \r\nL 338.867924 42.330328 \r\nL 339.034607 42.779587 \r\nL 339.534657 45.556161 \r\nL 340.034707 46.616579 \r\nL 340.70144 49.647628 \r\nL 341.20149 50.323734 \r\nL 341.534856 51.374406 \r\nL 341.70154 51.53923 \r\nL 341.868223 51.326494 \r\nL 342.368273 50.974655 \r\nL 342.701639 50.092042 \r\nL 342.868322 49.572173 \r\nL 343.035006 49.417561 \r\nL 343.701739 49.458114 \r\nL 344.035105 49.066979 \r\nL 344.201789 49.070807 \r\nL 345.035205 48.977568 \r\nL 345.201888 48.97689 \r\nL 345.868621 48.57358 \r\nL 346.368671 45.04019 \r\nL 346.535354 43.486754 \r\nL 347.035404 41.795514 \r\nL 347.702137 35.768629 \r\nL 348.202187 34.512241 \r\nL 348.702237 32.006641 \r\nL 348.86892 31.583485 \r\nL 349.36897 31.143704 \r\nL 349.702336 30.294186 \r\nL 349.869019 30.296022 \r\nL 350.035703 30.645248 \r\nL 350.535753 31.203325 \r\nL 350.869119 32.775901 \r\nL 351.202486 34.710937 \r\nL 351.702535 35.306714 \r\nL 352.202585 37.659341 \r\nL 352.369268 38.60498 \r\nL 352.869318 39.184033 \r\nL 352.869318 39.184033 \r\n\" style=\"fill:none;stroke:#2ca02c;stroke-linecap:square;stroke-width:1.5;\"/>\r\n   </g>\r\n   <g id=\"patch_3\">\r\n    <path d=\"M 33.2875 224.64 \r\nL 33.2875 7.2 \r\n\" style=\"fill:none;stroke:#000000;stroke-linecap:square;stroke-linejoin:miter;stroke-width:0.8;\"/>\r\n   </g>\r\n   <g id=\"patch_4\">\r\n    <path d=\"M 368.0875 224.64 \r\nL 368.0875 7.2 \r\n\" style=\"fill:none;stroke:#000000;stroke-linecap:square;stroke-linejoin:miter;stroke-width:0.8;\"/>\r\n   </g>\r\n   <g id=\"patch_5\">\r\n    <path d=\"M 33.2875 224.64 \r\nL 368.0875 224.64 \r\n\" style=\"fill:none;stroke:#000000;stroke-linecap:square;stroke-linejoin:miter;stroke-width:0.8;\"/>\r\n   </g>\r\n   <g id=\"patch_6\">\r\n    <path d=\"M 33.2875 7.2 \r\nL 368.0875 7.2 \r\n\" style=\"fill:none;stroke:#000000;stroke-linecap:square;stroke-linejoin:miter;stroke-width:0.8;\"/>\r\n   </g>\r\n   <g id=\"legend_1\">\r\n    <g id=\"patch_7\">\r\n     <path d=\"M 357.0875 20.2 \r\nL 361.0875 20.2 \r\nQ 363.0875 20.2 363.0875 18.2 \r\nL 363.0875 14.2 \r\nQ 363.0875 12.2 361.0875 12.2 \r\nL 357.0875 12.2 \r\nQ 355.0875 12.2 355.0875 14.2 \r\nL 355.0875 18.2 \r\nQ 355.0875 20.2 357.0875 20.2 \r\nz\r\n\" style=\"fill:#ffffff;opacity:0.8;stroke:#cccccc;stroke-linejoin:miter;\"/>\r\n    </g>\r\n   </g>\r\n  </g>\r\n </g>\r\n <defs>\r\n  <clipPath id=\"p750ad89143\">\r\n   <rect height=\"217.44\" width=\"334.8\" x=\"33.2875\" y=\"7.2\"/>\r\n  </clipPath>\r\n </defs>\r\n</svg>\r\n",
      "image/png": "[encoded data removed]"
     },
     "metadata": {
      "needs_background": "light"
     }
    }
   ],
   "source": [
    "#for plotting\n",
    "valid['Predictions'] = closing_price\n",
    "plt.plot(train['Close'])\n",
    "plt.plot(valid[['Close','Predictions']])"
   ]
  },
  {
   "cell_type": "code",
   "execution_count": null,
   "metadata": {},
   "outputs": [],
   "source": []
  }
 ]
}